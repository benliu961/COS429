{
 "cells": [
  {
   "cell_type": "code",
   "execution_count": 4,
   "metadata": {},
   "outputs": [
    {
     "name": "stdout",
     "output_type": "stream",
     "text": [
      "Requirement already satisfied: transformers in c:\\users\\ewang\\anaconda3\\envs\\cos429\\lib\\site-packages (4.40.1)\n",
      "Requirement already satisfied: filelock in c:\\users\\ewang\\anaconda3\\envs\\cos429\\lib\\site-packages (from transformers) (3.14.0)\n",
      "Requirement already satisfied: huggingface-hub<1.0,>=0.19.3 in c:\\users\\ewang\\anaconda3\\envs\\cos429\\lib\\site-packages (from transformers) (0.23.0)\n",
      "Requirement already satisfied: numpy>=1.17 in c:\\users\\ewang\\anaconda3\\envs\\cos429\\lib\\site-packages (from transformers) (1.24.3)\n",
      "Requirement already satisfied: packaging>=20.0 in c:\\users\\ewang\\anaconda3\\envs\\cos429\\lib\\site-packages (from transformers) (23.1)\n",
      "Requirement already satisfied: pyyaml>=5.1 in c:\\users\\ewang\\anaconda3\\envs\\cos429\\lib\\site-packages (from transformers) (6.0.1)\n",
      "Requirement already satisfied: regex!=2019.12.17 in c:\\users\\ewang\\anaconda3\\envs\\cos429\\lib\\site-packages (from transformers) (2024.4.28)\n",
      "Requirement already satisfied: requests in c:\\users\\ewang\\anaconda3\\envs\\cos429\\lib\\site-packages (from transformers) (2.31.0)\n",
      "Requirement already satisfied: tokenizers<0.20,>=0.19 in c:\\users\\ewang\\anaconda3\\envs\\cos429\\lib\\site-packages (from transformers) (0.19.1)\n",
      "Requirement already satisfied: safetensors>=0.4.1 in c:\\users\\ewang\\anaconda3\\envs\\cos429\\lib\\site-packages (from transformers) (0.4.3)\n",
      "Requirement already satisfied: tqdm>=4.27 in c:\\users\\ewang\\anaconda3\\envs\\cos429\\lib\\site-packages (from transformers) (4.66.4)\n",
      "Requirement already satisfied: fsspec>=2023.5.0 in c:\\users\\ewang\\anaconda3\\envs\\cos429\\lib\\site-packages (from huggingface-hub<1.0,>=0.19.3->transformers) (2023.10.0)\n",
      "Requirement already satisfied: typing-extensions>=3.7.4.3 in c:\\users\\ewang\\anaconda3\\envs\\cos429\\lib\\site-packages (from huggingface-hub<1.0,>=0.19.3->transformers) (4.9.0)\n",
      "Requirement already satisfied: colorama in c:\\users\\ewang\\anaconda3\\envs\\cos429\\lib\\site-packages (from tqdm>=4.27->transformers) (0.4.6)\n",
      "Requirement already satisfied: charset-normalizer<4,>=2 in c:\\users\\ewang\\anaconda3\\envs\\cos429\\lib\\site-packages (from requests->transformers) (2.0.4)\n",
      "Requirement already satisfied: idna<4,>=2.5 in c:\\users\\ewang\\anaconda3\\envs\\cos429\\lib\\site-packages (from requests->transformers) (3.4)\n",
      "Requirement already satisfied: urllib3<3,>=1.21.1 in c:\\users\\ewang\\anaconda3\\envs\\cos429\\lib\\site-packages (from requests->transformers) (1.26.18)\n",
      "Requirement already satisfied: certifi>=2017.4.17 in c:\\users\\ewang\\anaconda3\\envs\\cos429\\lib\\site-packages (from requests->transformers) (2024.2.2)\n"
     ]
    }
   ],
   "source": [
    "!pip install transformers"
   ]
  },
  {
   "cell_type": "code",
   "execution_count": 27,
   "metadata": {},
   "outputs": [
    {
     "name": "stdout",
     "output_type": "stream",
     "text": [
      "Collecting vaderSentiment\n",
      "  Using cached vaderSentiment-3.3.2-py2.py3-none-any.whl.metadata (572 bytes)\n",
      "Requirement already satisfied: requests in c:\\users\\ewang\\anaconda3\\envs\\cos429\\lib\\site-packages (from vaderSentiment) (2.31.0)\n",
      "Requirement already satisfied: charset-normalizer<4,>=2 in c:\\users\\ewang\\anaconda3\\envs\\cos429\\lib\\site-packages (from requests->vaderSentiment) (2.0.4)\n",
      "Requirement already satisfied: idna<4,>=2.5 in c:\\users\\ewang\\anaconda3\\envs\\cos429\\lib\\site-packages (from requests->vaderSentiment) (3.4)\n",
      "Requirement already satisfied: urllib3<3,>=1.21.1 in c:\\users\\ewang\\anaconda3\\envs\\cos429\\lib\\site-packages (from requests->vaderSentiment) (1.26.18)\n",
      "Requirement already satisfied: certifi>=2017.4.17 in c:\\users\\ewang\\anaconda3\\envs\\cos429\\lib\\site-packages (from requests->vaderSentiment) (2024.2.2)\n",
      "Using cached vaderSentiment-3.3.2-py2.py3-none-any.whl (125 kB)\n",
      "Installing collected packages: vaderSentiment\n",
      "Successfully installed vaderSentiment-3.3.2\n"
     ]
    }
   ],
   "source": [
    "!pip install vaderSentiment"
   ]
  },
  {
   "cell_type": "code",
   "execution_count": 47,
   "metadata": {},
   "outputs": [
    {
     "name": "stderr",
     "output_type": "stream",
     "text": [
      "No model was supplied, defaulted to distilbert/distilbert-base-uncased-finetuned-sst-2-english and revision af0f99b (https://huggingface.co/distilbert/distilbert-base-uncased-finetuned-sst-2-english).\n",
      "Using a pipeline without specifying a model name and revision in production is not recommended.\n",
      "c:\\Users\\ewang\\anaconda3\\envs\\cos429\\lib\\site-packages\\huggingface_hub\\file_download.py:1132: FutureWarning: `resume_download` is deprecated and will be removed in version 1.0.0. Downloads always resume when possible. If you want to force a new download, use `force_download=True`.\n",
      "  warnings.warn(\n"
     ]
    }
   ],
   "source": [
    "from transformers import pipeline\n",
    "from scipy.stats import ttest_rel, ttest_ind\n",
    "import pandas as pd\n",
    "from vaderSentiment.vaderSentiment import SentimentIntensityAnalyzer\n",
    "import matplotlib.pyplot as plt\n",
    "import seaborn as sns\n",
    "import numpy as np\n",
    "from scipy.stats import chi2_contingency\n",
    "sentiment_analysis = pipeline(\"sentiment-analysis\")\n",
    "analyzer = SentimentIntensityAnalyzer()\n",
    "\n",
    "# Get the sentiment for a list of captions\n",
    "def pipeline_sentiments(captions):\n",
    "    return np.array([sentiment_analysis(caption)[0]['label'] for caption in captions])\n",
    "\n",
    "def vader_sentiments(captions):\n",
    "    return np.array([analyzer.polarity_scores(caption)['compound'] for caption in captions])"
   ]
  },
  {
   "cell_type": "code",
   "execution_count": 39,
   "metadata": {},
   "outputs": [],
   "source": [
    "captions = pd.read_csv(\"C:/Users/ewang/OneDrive/Desktop/Spring_2024/COS_429/Final/captions_GIT_20_percent.csv\")\n",
    "\n",
    "light_captions = captions[\"light_caption\"]\n",
    "dark_captions = captions[\"dark_caption\"]\n",
    "# t_stat, p_value = ttest_rel(sentiments_light, sentiments_dark)"
   ]
  },
  {
   "cell_type": "code",
   "execution_count": 40,
   "metadata": {},
   "outputs": [],
   "source": [
    "pipeline_light = pipeline_sentiments(light_captions)\n",
    "pipeline_dark = pipeline_sentiments(dark_captions)\n"
   ]
  },
  {
   "cell_type": "code",
   "execution_count": 41,
   "metadata": {},
   "outputs": [],
   "source": [
    "vader_light = vader_sentiments(light_captions)\n",
    "vader_dark = vader_sentiments(dark_captions)"
   ]
  },
  {
   "cell_type": "code",
   "execution_count": 51,
   "metadata": {},
   "outputs": [
    {
     "name": "stdout",
     "output_type": "stream",
     "text": [
      "0.11145273634371991 0.9113598906202413\n",
      "0.040143378995433784\n",
      "0.03904657534246575\n"
     ]
    }
   ],
   "source": [
    "t_stat, p_value = ttest_rel(vader_light, vader_dark)\n",
    "print(t_stat, p_value)\n",
    "\n",
    "print(vader_light.mean())\n",
    "print(vader_dark.mean())"
   ]
  },
  {
   "cell_type": "code",
   "execution_count": 52,
   "metadata": {},
   "outputs": [
    {
     "data": {
      "image/png": "[encoded data removed]",
      "text/plain": [
       "<Figure size 640x480 with 1 Axes>"
      ]
     },
     "metadata": {},
     "output_type": "display_data"
    }
   ],
   "source": [
    "# Plot histograms\n",
    "plt.hist(vader_light, bins=20, alpha=0.5, label='Light', color='blue')\n",
    "plt.hist(vader_dark, bins=20, alpha=0.5, label='Dark', color='red')\n",
    "\n",
    "plt.title(\"Sentiment Score Distribution by Skin Tone, VADER\")\n",
    "plt.xlabel(\"Sentiment Score\")\n",
    "plt.ylabel(\"Frequency\")\n",
    "plt.legend(loc='upper right')\n",
    "plt.show()"
   ]
  },
  {
   "cell_type": "code",
   "execution_count": null,
   "metadata": {},
   "outputs": [],
   "source": [
    "# Create a DataFrame with the sentiment scores\n",
    "data = pd.DataFrame({\n",
    "    'sentiment': np.concatenate([vader_light, vader_dark]),\n",
    "    'group': ['Light'] * len(vader_light) + ['Dark'] * len(vader_dark)\n",
    "})\n",
    "\n",
    "# Plot with seaborn\n",
    "sns.boxplot(x='group', y='sentiment', data=data)\n",
    "plt.title(\"Sentiment Distribution by Skin Tone\")\n",
    "plt.xlabel(\"Skin Tone\")\n",
    "plt.ylabel(\"Sentiment Score\")\n",
    "plt.show()"
   ]
  },
  {
   "cell_type": "code",
   "execution_count": 48,
   "metadata": {},
   "outputs": [
    {
     "name": "stdout",
     "output_type": "stream",
     "text": [
      "Chi-square statistic: 0.082579185520362\n",
      "P-value: 0.7738321350552672\n",
      "Degrees of freedom: 1\n",
      "Expected frequencies:\n",
      "[[117. 117.]\n",
      " [102. 102.]]\n"
     ]
    }
   ],
   "source": [
    "# Convert the output to a pandas Series\n",
    "light_series = pd.Series(pipeline_light)\n",
    "dark_series = pd.Series(pipeline_dark)\n",
    "\n",
    "# Count the frequency of each label\n",
    "light_counts = light_series.value_counts()\n",
    "dark_counts = dark_series.value_counts()\n",
    "\n",
    "# Create a contingency table\n",
    "contingency_table = pd.DataFrame({'Light': light_counts, 'Dark': dark_counts})\n",
    "contingency_table.fillna(0, inplace=True)  # Fill NaN with 0\n",
    "\n",
    "# Perform the chi-square test\n",
    "chi2_stat, p_value, dof, expected = chi2_contingency(contingency_table)\n",
    "\n",
    "print(f\"Chi-square statistic: {chi2_stat}\")\n",
    "print(f\"P-value: {p_value}\")\n",
    "print(f\"Degrees of freedom: {dof}\")\n",
    "print(f\"Expected frequencies:\\n{expected}\")"
   ]
  }
 ],
 "metadata": {
  "kernelspec": {
   "display_name": "cos429",
   "language": "python",
   "name": "python3"
  },
  "language_info": {
   "codemirror_mode": {
    "name": "ipython",
    "version": 3
   },
   "file_extension": ".py",
   "mimetype": "text/x-python",
   "name": "python",
   "nbconvert_exporter": "python",
   "pygments_lexer": "ipython3",
   "version": "3.8.18"
  }
 },
 "nbformat": 4,
 "nbformat_minor": 2
}
